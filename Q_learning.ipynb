{
 "cells": [
  {
   "cell_type": "code",
   "execution_count": 1,
   "id": "2cb39882",
   "metadata": {},
   "outputs": [],
   "source": [
    "import numpy as np\n",
    "import matplotlib.pyplot as plt\n",
    "%matplotlib inline"
   ]
  },
  {
   "cell_type": "code",
   "execution_count": 2,
   "id": "aa0fefb1",
   "metadata": {},
   "outputs": [],
   "source": [
    "from collections import defaultdict\n",
    "import random\n",
    "import math\n",
    "import numpy as np\n",
    "\n",
    "\n",
    "class QLearningAgent:\n",
    "    def __init__(self, alpha, epsilon, discount, get_legal_actions, qvalues=defaultdict(lambda: defaultdict(lambda: 0))):\n",
    "\n",
    "        self.get_legal_actions = get_legal_actions\n",
    "        self._qvalues = qvalues\n",
    "        self.alpha = alpha\n",
    "        self.epsilon = epsilon\n",
    "        self.discount = discount\n",
    "\n",
    "    def get_qvalue(self, state, action):\n",
    "        return self._qvalues[state][action]\n",
    "\n",
    "    def set_qvalue(self, state, action, value):\n",
    "        self._qvalues[state][action] = value\n",
    "\n",
    "\n",
    "    def get_value(self, state):\n",
    "\n",
    "        possible_actions = self.get_legal_actions\n",
    "        if len(possible_actions) == 0:\n",
    "            return 0.0\n",
    "\n",
    "        possible_values = [self.get_qvalue(state, action) for action in possible_actions]\n",
    "        value = np.max(possible_values)\n",
    "        return value\n",
    "\n",
    "    def update(self, state, action, reward, next_state):\n",
    "        \"\"\"\n",
    "           Q(s,a) := (1 - alpha) * Q(s,a) + alpha * (r + gamma * V(s'))\n",
    "        \"\"\"\n",
    "\n",
    "        gamma = self.discount\n",
    "        learning_rate = self.alpha\n",
    "        \n",
    "        q_value = (1-learning_rate) * self.get_qvalue(state, action) + \\\n",
    "            learning_rate * (reward + gamma * self.get_value(next_state))\n",
    "        self.set_qvalue(state, action, q_value)\n",
    "\n",
    "    def get_best_action(self, state):\n",
    "\n",
    "        possible_actions = self.get_legal_actions\n",
    "\n",
    "        if len(possible_actions) == 0:\n",
    "            return None\n",
    "\n",
    "        possible_q_values = [self.get_qvalue(state, action) for action in possible_actions]\n",
    "        index = np.argmax(possible_q_values)\n",
    "        best_action = possible_actions[index]\n",
    "        return best_action\n",
    "\n",
    "    def get_action(self, state):\n",
    "\n",
    "        possible_actions = self.get_legal_actions\n",
    "        action = None\n",
    "\n",
    "        if len(possible_actions) == 0:\n",
    "            return None\n",
    "\n",
    "        epsilon = self.epsilon\n",
    "\n",
    "        if np.random.random() > self.epsilon:\n",
    "            return self.get_best_action(state)\n",
    "        return random.choice(possible_actions)"
   ]
  },
  {
   "cell_type": "code",
   "execution_count": 3,
   "id": "694829db",
   "metadata": {},
   "outputs": [
    {
     "name": "stdout",
     "output_type": "stream",
     "text": [
      "pygame 2.1.0 (SDL 2.0.16, Python 3.9.2)\n",
      "Hello from the pygame community. https://www.pygame.org/contribute.html\n",
      "couldn't import doomish\n",
      "Couldn't import doom\n"
     ]
    },
    {
     "data": {
      "text/plain": [
       "Box([-inf -inf -inf -inf -inf -inf -inf], [inf inf inf inf inf inf inf], (7,), float32)"
      ]
     },
     "execution_count": 3,
     "metadata": {},
     "output_type": "execute_result"
    }
   ],
   "source": [
    "import gym\n",
    "import gym_pygame\n",
    "env = gym.make('Pong-PLE-v0')\n",
    "n_actions = env.action_space.n\n",
    "env.observation_space"
   ]
  },
  {
   "cell_type": "code",
   "execution_count": 4,
   "id": "011b1f9c",
   "metadata": {},
   "outputs": [
    {
     "data": {
      "text/plain": [
       "Discrete(3)"
      ]
     },
     "execution_count": 4,
     "metadata": {},
     "output_type": "execute_result"
    }
   ],
   "source": [
    "env.action_space"
   ]
  },
  {
   "cell_type": "code",
   "execution_count": 5,
   "id": "8468d22b",
   "metadata": {},
   "outputs": [],
   "source": [
    "agent = QLearningAgent(alpha=0.5, epsilon=0.99, discount=0.99, get_legal_actions=[i for i in range(n_actions)])\n"
   ]
  },
  {
   "cell_type": "code",
   "execution_count": 6,
   "id": "0d578807",
   "metadata": {},
   "outputs": [],
   "source": [
    "def get_state(s):\n",
    "#     state = {\n",
    "#             \"player_y\": s[0],\n",
    "#             \"player_velocity\": s[1],\n",
    "#             \"cpu_y\": s[2],\n",
    "#             \"ball_x\": s[3],\n",
    "#             \"ball_y\": s[4],\n",
    "#             \"ball_velocity_x\": s[5],\n",
    "#             \"ball_velocity_y\": s[6]\n",
    "#         }\n",
    "    return tuple([int(i) for i in [s[0], s[4]]])\n",
    "\n",
    "def play_and_train(env, agent, t_max=10**4):\n",
    "    \n",
    "    total_reward = 0.0\n",
    "    s = env.reset()\n",
    "    for t in range(t_max):\n",
    "        state = get_state(s)\n",
    "        a = agent.get_action(state)\n",
    "        env.render()\n",
    "        next_s, r, done, _ = env.step(a)\n",
    "        if state[0]-1 <= state[1] <= state[0]+1:\n",
    "            r += 100\n",
    "        agent.update(state, a, r, get_state(next_s))\n",
    "        s = next_s\n",
    "        total_reward += r\n",
    "        if done:\n",
    "            break\n",
    "\n",
    "    return total_reward"
   ]
  },
  {
   "cell_type": "code",
   "execution_count": null,
   "id": "e9387a1a",
   "metadata": {},
   "outputs": [
    {
     "name": "stdout",
     "output_type": "stream",
     "text": [
      "1898\n"
     ]
    },
    {
     "data": {
      "image/png": "[encoded data removed]",
      "text/plain": [
       "<Figure size 432x288 with 1 Axes>"
      ]
     },
     "metadata": {
      "needs_background": "light"
     },
     "output_type": "display_data"
    }
   ],
   "source": [
    "from IPython.display import clear_output\n",
    "\n",
    "rewards = []\n",
    "for i in range(300):\n",
    "    rewards.append(play_and_train(env, agent))\n",
    "    agent.epsilon *= 0.99\n",
    "    if i%100 == 0:\n",
    "        clear_output(True)\n",
    "        print(len(agent._qvalues))\n",
    "        plt.title('eps = {:e}, mean reward = {:.1f}'.format(agent.epsilon, np.mean(rewards[-10:])))\n",
    "        plt.plot(rewards)\n",
    "        plt.show()"
   ]
  },
  {
   "cell_type": "code",
   "execution_count": null,
   "id": "50f30590",
   "metadata": {},
   "outputs": [],
   "source": []
  }
 ],
 "metadata": {
  "kernelspec": {
   "display_name": "Python 3 (ipykernel)",
   "language": "python",
   "name": "python3"
  },
  "language_info": {
   "codemirror_mode": {
    "name": "ipython",
    "version": 3
   },
   "file_extension": ".py",
   "mimetype": "text/x-python",
   "name": "python",
   "nbconvert_exporter": "python",
   "pygments_lexer": "ipython3",
   "version": "3.9.2"
  }
 },
 "nbformat": 4,
 "nbformat_minor": 5
}
